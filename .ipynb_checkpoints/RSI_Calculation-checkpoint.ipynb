{
 "cells": [
  {
   "cell_type": "code",
   "execution_count": 1,
   "metadata": {},
   "outputs": [],
   "source": [
    "import pandas as pd\n",
    "import numpy as np\n",
    "import matplotlib.pyplot as plt\n",
    "import datetime\n",
    "import pandas_datareader as pdr\n",
    "plt.style.use('dark_background')\n"
   ]
  },
  {
   "cell_type": "code",
   "execution_count": 21,
   "metadata": {},
   "outputs": [
    {
     "name": "stdout",
     "output_type": "stream",
     "text": [
      "            <FIRST>        <HIGH>         <LOW>       <CLOSE>       <VALUE>  \\\n",
      "count    726.000000    726.000000    726.000000    726.000000  7.260000e+02   \n",
      "mean   16268.157025  16472.351240  15961.516529  16214.756198  2.769737e+10   \n",
      "std     3577.939878   3628.376977   3517.282688   3572.827195  4.916397e+10   \n",
      "min     9999.000000   9999.000000   9999.000000   9999.000000  1.301400e+09   \n",
      "25%    14165.000000  14265.000000  13901.000000  14092.500000  8.091584e+09   \n",
      "50%    15268.500000  15400.000000  15003.000000  15195.000000  1.468535e+10   \n",
      "75%    17189.250000  17289.500000  16945.000000  17078.750000  3.050998e+10   \n",
      "max    27500.000000  27600.000000  26987.000000  27014.000000  8.255174e+11   \n",
      "\n",
      "              <VOL>     <OPENINT>        <OPEN>        <LAST>  \n",
      "count  7.260000e+02    726.000000    726.000000    726.000000  \n",
      "mean   1.752260e+06   1089.133609  16170.252066  16197.279614  \n",
      "std    3.826796e+06   1475.642833   3613.125030   3555.437898  \n",
      "min    9.864200e+04     75.000000   1000.000000   9999.000000  \n",
      "25%    5.392985e+05    416.000000  14072.000000  14086.000000  \n",
      "50%    9.311490e+05    665.000000  15160.500000  15178.000000  \n",
      "75%    1.909821e+06   1131.000000  17076.750000  17099.000000  \n",
      "max    8.256000e+07  22714.000000  27014.000000  27000.000000  \n"
     ]
    }
   ],
   "source": [
    "data = pd.read_csv('Asan.Pardakht.Pers.csv', index_col='<DTYYYYMMDD>')\n",
    "data.index = pd.to_datetime(data.index, format='%Y%m%d', errors='ignore')\n",
    "print(data.describe())\n",
    "close = data['<CLOSE>']"
   ]
  },
  {
   "cell_type": "code",
   "execution_count": 3,
   "metadata": {},
   "outputs": [],
   "source": [
    "ema1 = close.ewm(span=12).mean()\n",
    "ema2 = close.ewm(span=26).mean()"
   ]
  },
  {
   "cell_type": "code",
   "execution_count": 4,
   "metadata": {},
   "outputs": [],
   "source": [
    "def macd(array):\n",
    "    ema1 = array.ewm(span=12, adjust=False).mean()\n",
    "    ema2 = array.ewm(span=26, adjust=False).mean()\n",
    "    mac = ema2-ema1\n",
    "    mac_ema = mac.ewm(span=9, adjust=False).mean()\n",
    "    return mac, mac_ema"
   ]
  },
  {
   "cell_type": "code",
   "execution_count": 5,
   "metadata": {},
   "outputs": [],
   "source": [
    "def getRsi(arr, ema_size=14):\n",
    "    print(\"Getting RSI...\")\n",
    "    arr = arr.diff()\n",
    "    arr = arr[1:]\n",
    "    up, down = arr.copy(), arr.copy()\n",
    "    up[up<0] = 0\n",
    "    down[down>0] = 0\n",
    "    rollup = up.ewm(span=ema_size).mean()\n",
    "    rolldown = np.abs(down).ewm(span=ema_size).mean()\n",
    "    rs = rollup/rolldown\n",
    "    rsi = 100 - (100/(1+rs))\n",
    "#     print(up.size, up)\n",
    "#     print(arr.size)\n",
    "#     print(rollup.size, rollup)\n",
    "    print(\"RSI Calculated\")\n",
    "    return rsi\n",
    "#     print(rsi)"
   ]
  },
  {
   "cell_type": "code",
   "execution_count": 247,
   "metadata": {},
   "outputs": [],
   "source": [
    "def slice_data(data,currentDay, period='10 day'):\n",
    "    return data[currentDay:data.index.max()-pd.Timedelta(period)]\n",
    "\n",
    "def slice_data_month(data,currentDay, period=3):\n",
    "    return data[currentDay:data.index.max()-pd.DateOffset(months=period)]\n",
    "\n",
    "def checkCF(data, day, share):\n",
    "    max_ = data[day:].max()\n",
    "    min_ = data[day:].min()\n",
    "    print(\"Value:\",data[day].values[0] ,\"Max:\", max_, \"Min:\",min_,\"Difference:\", max_-min_)\n",
    "    if data[day].values[0]>max_:\n",
    "        return 0\n",
    "    elif data[day].values[0] < min_:\n",
    "        return share\n",
    "    sh = share / (max_-min_)\n",
    "    value = share - sh*(data[day].values[0]-min_) \n",
    "    print(\"Value =>\", value)\n",
    "    return value\n",
    "    space = np.linspace(share, 0, int(max_ - min_)+1)\n",
    "    print(\"Space Created With:\", data.size,\"Days\")\n",
    "    return space[int(data[day]-min_)]\n",
    "\n",
    "def checkRsi(data, day, ceil, floor, share):\n",
    "    print(\"Checking RSI Between\",ceil, \",\",floor,\"Maximum Share:\", share)\n",
    "    print(\"Value is:\", data[day].values[0])\n",
    "    if data[day].values[0]>ceil:\n",
    "        return 0.0\n",
    "    elif data[day].values[0]<floor:\n",
    "        return share\n",
    "    sh = share/(ceil-floor)\n",
    "    value = share - sh*(data[day].values[0] - floor)\n",
    "    print(\"Value =>\",value)\n",
    "    return value\n"
   ]
  },
  {
   "cell_type": "code",
   "execution_count": 241,
   "metadata": {},
   "outputs": [
    {
     "name": "stdout",
     "output_type": "stream",
     "text": [
      "Getting RSI...\n",
      "RSI Calculated\n",
      "Checking RSI Between 80 , 20 Maximum Share: 20\n",
      "Value is: 68.97306897171947\n",
      "Value => 3.675643676093511\n",
      "Value is:  3.675643676093511\n"
     ]
    }
   ],
   "source": [
    "rsi = getRsi(close)\n",
    "# print(\"RSI:\", rsi)\n",
    "print(\"Value is: \",checkRsi(rsi, day, floor=20, ceil=80, share=20))"
   ]
  },
  {
   "cell_type": "code",
   "execution_count": 259,
   "metadata": {},
   "outputs": [],
   "source": [
    "def checkTV(data, day):\n",
    "    print(\"Checking Transaction Volume\")\n",
    "    min_ = data[day:].min()\n",
    "    mean = data[day:].mean()\n",
    "    print(\"Minimum Transaction Specified Period:\", min_)\n",
    "    print(\"Mean Of Transactions:\", mean)\n",
    "    print(\"Checking\", data[day].values[0])\n",
    "    if data[day].values[0] > mean:\n",
    "        return 10.0\n",
    "    elif data[day].values[0] < min_:\n",
    "        return 0.0;\n",
    "    share = 10/(mean - min_)\n",
    "    value = (data[day].values[0] - min_)*share\n",
    "    print(\"Value =>\", value)\n",
    "    return value"
   ]
  },
  {
   "cell_type": "code",
   "execution_count": 188,
   "metadata": {},
   "outputs": [
    {
     "name": "stdout",
     "output_type": "stream",
     "text": [
      "<class 'pandas.core.series.Series'>\n"
     ]
    }
   ],
   "source": [
    "y = slice_data_month(data['<VOL>'], 1)\n",
    "print(type(y))"
   ]
  },
  {
   "cell_type": "code",
   "execution_count": 229,
   "metadata": {},
   "outputs": [
    {
     "name": "stdout",
     "output_type": "stream",
     "text": [
      "2019-12-10\n",
      "1\n",
      "                        <TICKER>  <FIRST>   <HIGH>    <LOW>  <CLOSE>  \\\n",
      "<DTYYYYMMDD>                                                           \n",
      "2019-12-10    Asan.Pardakht.Pers  16158.0  16560.0  15662.0  15959.0   \n",
      "\n",
      "                  <VALUE>    <VOL>  <OPENINT> <PER>   <OPEN>   <LAST>  \n",
      "<DTYYYYMMDD>                                                           \n",
      "2019-12-10    47771046584  2993421       1980     D  16485.0  15663.0  \n"
     ]
    }
   ],
   "source": [
    "tries = 0\n",
    "while tries<3:\n",
    "    temp = input()\n",
    "    dayData = data[temp]\n",
    "    print(dayData.index.size)\n",
    "    if dayData.index.size == 1:\n",
    "        day = temp\n",
    "        print(data[temp])\n",
    "        break\n",
    "    tries += 1"
   ]
  },
  {
   "cell_type": "code",
   "execution_count": 230,
   "metadata": {},
   "outputs": [
    {
     "name": "stdout",
     "output_type": "stream",
     "text": [
      "CF      0.0\n",
      "RSI     0.0\n",
      "TV      0.0\n",
      "MACD    0.0\n",
      "dtype: float32\n"
     ]
    }
   ],
   "source": [
    "# print(\"Checking \", day, data[day])\n",
    "total = pd.Series(np.full(4, fill_value=0, dtype='float32'), np.array(['CF', 'RSI', 'TV', 'MACD']))\n",
    "print(total)"
   ]
  },
  {
   "cell_type": "markdown",
   "metadata": {},
   "source": [
    "# 1. Check Ceil And Floor (40%)"
   ]
  },
  {
   "cell_type": "code",
   "execution_count": 248,
   "metadata": {},
   "outputs": [
    {
     "name": "stdout",
     "output_type": "stream",
     "text": [
      "Value: 15959.0 Max: 16932.0 Min: 12562.0 Difference: 4370.0\n",
      "Value => 2.226544622425629\n",
      "Value: 15959.0 Max: 17157.0 Min: 12562.0 Difference: 4595.0\n",
      "Value => 2.6071817192600655\n",
      "Value: 15959.0 Max: 17157.0 Min: 10722.0 Difference: 6435.0\n",
      "Value => 1.8616938616938619\n",
      "Value: 15959.0 Max: 18793.0 Min: 10722.0 Difference: 8071.0\n",
      "Value => 3.5113368851443445\n",
      "Value of CF 10.206757\n",
      "\n",
      "###################\n",
      "CF      10.206757\n",
      "RSI      3.675644\n",
      "TV       4.592318\n",
      "MACD     0.000000\n",
      "dtype: float32\n"
     ]
    }
   ],
   "source": [
    "cf = np.full(4, fill_value=0, dtype='float32')\n",
    "data_3_month = slice_data_month(close,day, 3)\n",
    "cf[0] = checkCF(data_3_month, day, 10)\n",
    "\n",
    "data_6_month = slice_data_month(close,day, 6)\n",
    "cf[1] = checkCF(data_6_month, day, 10)\n",
    "\n",
    "data_1_year = slice_data(close,day, '1Y')\n",
    "cf[2] = checkCF(data_1_year, day, 10)\n",
    "\n",
    "data_2_year = slice_data(close,day, '2Y')\n",
    "cf[3] = checkCF(data_2_year, day, 10)\n",
    "\n",
    "results = cf.sum()\n",
    "total['CF'] = results\n",
    "print(\"Value of CF\", results)\n",
    "print(\"\\n###################\")\n",
    "print(total)"
   ]
  },
  {
   "cell_type": "markdown",
   "metadata": {},
   "source": [
    "# 2. Check RSI (20%)"
   ]
  },
  {
   "cell_type": "code",
   "execution_count": 249,
   "metadata": {},
   "outputs": [
    {
     "name": "stdout",
     "output_type": "stream",
     "text": [
      "Getting RSI...\n",
      "RSI Calculated\n",
      "RSI is: <DTYYYYMMDD>\n",
      "2019-12-17    100.000000\n",
      "2019-12-16     55.201138\n",
      "2019-12-15     63.272837\n",
      "2019-12-14     75.195331\n",
      "2019-12-11     67.029111\n",
      "Name: <CLOSE>, dtype: float64\n",
      "Checking RSI Between 80 , 20 Maximum Share: 20\n",
      "Value is: 68.97306897171947\n",
      "Value => 3.675643676093511\n",
      "\n",
      "Value of RSI:  3.675643676093511\n",
      "##################\n",
      "CF      10.206757\n",
      "RSI      3.675644\n",
      "TV       4.592318\n",
      "MACD     0.000000\n",
      "dtype: float32\n"
     ]
    }
   ],
   "source": [
    "rsi = getRsi(close)\n",
    "print(\"RSI is:\", rsi.head())\n",
    "rsiResults = checkRsi(rsi, day, ceil=80, floor=20, share=20)\n",
    "print(\"\\nValue of RSI: \",rsiResults)\n",
    "total['RSI'] = rsiResults\n",
    "print(\"##################\")\n",
    "print(total)"
   ]
  },
  {
   "cell_type": "markdown",
   "metadata": {},
   "source": [
    "# 3. Check Transaction Volume (20%)"
   ]
  },
  {
   "cell_type": "code",
   "execution_count": 263,
   "metadata": {},
   "outputs": [
    {
     "name": "stdout",
     "output_type": "stream",
     "text": [
      "Last Month Data:  <DTYYYYMMDD>\n",
      "2019-12-10     2993421\n",
      "2019-12-09     2172484\n",
      "2019-12-08     6980191\n",
      "2019-12-07     2916200\n",
      "2019-12-04    10994464\n",
      "2019-12-03     2961427\n",
      "2019-12-02     2564248\n",
      "2019-12-01     1864996\n",
      "2019-11-30     1683916\n",
      "2019-11-27     1670801\n",
      "2019-11-26      992763\n",
      "2019-11-25     1734641\n",
      "2019-11-24     2270984\n",
      "2019-11-23     1795057\n",
      "2019-11-20     2139870\n",
      "2019-11-19     2195869\n",
      "2019-11-18     1749310\n",
      "Name: <VOL>, dtype: int64\n",
      "Checking Transaction Volume\n",
      "Minimum Transaction Specified Period: 992763\n",
      "Mean Of Transactions: 2922390.705882353\n",
      "Checking 2993421\n",
      "\n",
      "Value Of TV: 10.0\n",
      "###########################\n",
      "CF      10.206757\n",
      "RSI      3.675644\n",
      "TV      10.000000\n",
      "MACD     0.000000\n",
      "dtype: float32\n"
     ]
    }
   ],
   "source": [
    "volume = data['<VOL>']\n",
    "print(\"Last Month Data: \",slice_data_month(volume,day, 1))\n",
    "tv = checkTV(slice_data_month(data['<VOL>'],day, 1), day)\n",
    "print(\"\\nValue Of TV:\",tv)\n",
    "total['TV'] = tv\n",
    "print(\"###########################\")\n",
    "print(total)"
   ]
  },
  {
   "cell_type": "markdown",
   "metadata": {},
   "source": [
    "# 4. Check MACD (20%)"
   ]
  },
  {
   "cell_type": "markdown",
   "metadata": {},
   "source": [
    "# Get Results"
   ]
  },
  {
   "cell_type": "code",
   "execution_count": null,
   "metadata": {},
   "outputs": [],
   "source": []
  }
 ],
 "metadata": {
  "kernelspec": {
   "display_name": "Python 3",
   "language": "python",
   "name": "python3"
  },
  "language_info": {
   "codemirror_mode": {
    "name": "ipython",
    "version": 3
   },
   "file_extension": ".py",
   "mimetype": "text/x-python",
   "name": "python",
   "nbconvert_exporter": "python",
   "pygments_lexer": "ipython3",
   "version": "3.6.7"
  }
 },
 "nbformat": 4,
 "nbformat_minor": 2
}
