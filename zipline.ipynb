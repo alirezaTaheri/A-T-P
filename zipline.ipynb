{
 "cells": [
  {
   "cell_type": "code",
   "execution_count": 32,
   "metadata": {},
   "outputs": [
    {
     "name": "stderr",
     "output_type": "stream",
     "text": [
      "F:\\Anaconda\\envs\\env_zipline\\lib\\site-packages\\ipykernel_launcher.py:21: UserWarning: Overwriting bundle with name 'test'\n"
     ]
    },
    {
     "data": {
      "text/plain": [
       "<bound method CSVDIRBundle.ingest of <zipline.data.bundles.csvdir.CSVDIRBundle object at 0x000001FEEB2E8B00>>"
      ]
     },
     "execution_count": 32,
     "metadata": {},
     "output_type": "execute_result"
    }
   ],
   "source": [
    "from zipline.api import order_target, record, symbol\n",
    "from zipline.examples import buyapple\n",
    "import pandas as pd\n",
    "import zipline\n",
    "import pandas as pd\n",
    "\n",
    "from zipline.data.bundles import register\n",
    "from zipline.data.bundles.csvdir import csvdir_equities\n",
    "\n",
    "start_session = pd.Timestamp('2017-01-03', tz='utc')\n",
    "end_session = pd.Timestamp('2019-06-28', tz='utc')\n",
    "\n",
    "register(\n",
    "    'test', # name we select for the bundle\n",
    "    csvdir_equities(\n",
    "        ['data'], # name of the directory as specified above (named after data frequency)\n",
    "        'F:\\Python Data Science', # path to directory containing the data\n",
    "    ),\n",
    "    calendar_name='NYSE',  # US equities\n",
    "    start_session=start_session,\n",
    "    end_session=end_session\n",
    ")\n",
    "# register?"
   ]
  },
  {
   "cell_type": "code",
   "execution_count": 13,
   "metadata": {},
   "outputs": [],
   "source": [
    "def initialize(context):\n",
    "    pass\n",
    "\n",
    "def handle_data(context, data):\n",
    "    order(symbol('AAPL', 10))\n",
    "    record(AAPL=data.current(symbol('AAPL'), 'price'))"
   ]
  },
  {
   "cell_type": "code",
   "execution_count": 7,
   "metadata": {},
   "outputs": [],
   "source": [
    "# zipline.run_algorithm(start=pd.Timestamp('2016-01-01'),end=pd.Timestamp('2016-11-01'),capital_base=10000.0, initialize=None)\n"
   ]
  },
  {
   "cell_type": "code",
   "execution_count": 10,
   "metadata": {},
   "outputs": [
    {
     "name": "stdout",
     "output_type": "stream",
     "text": [
      "csvdir <no ingestions>\n",
      "quandl <no ingestions>\n",
      "quantopian-quandl <no ingestions>\n"
     ]
    }
   ],
   "source": [
    "!zipline bundles"
   ]
  },
  {
   "cell_type": "code",
   "execution_count": 20,
   "metadata": {},
   "outputs": [],
   "source": [
    "# import numpy as np\n",
    "# import matplotlib.pyplot as plt\n",
    "# import pandas as pd\n",
    "# import zipline\n",
    "# from trading_calendars import get_calendar\n",
    "# from yahoofinancials import YahooFinancials\n",
    "# import warnings\n",
    "\n",
    "# plt.style.use('seaborn')\n",
    "# plt.rcParams['figure.figsize'] = [16, 9]\n",
    "# plt.rcParams['figure.dpi'] = 200\n",
    "# warnings.simplefilter(action='ignore', category=FutureWarning)\n",
    "\n",
    "# ticker = 'AAPL'\n",
    "# yahoo_financials = YahooFinancials(ticker)\n",
    "\n",
    "# df = yahoo_financials.get_historical_price_data('2017-01-01', '2019-06-30', 'daily')\n",
    "# df = pd.DataFrame(df[ticker]['prices']).drop(['date'], axis=1).rename(columns={'formatted_date':'date'})\n",
    "# df = df[['date','open','high','low','close','volume']]\n",
    "# df['dividend'] = 0\n",
    "# df['split'] = 1\n",
    "\n",
    "# df.head()"
   ]
  },
  {
   "cell_type": "code",
   "execution_count": 29,
   "metadata": {},
   "outputs": [
    {
     "name": "stdout",
     "output_type": "stream",
     "text": [
      "Index(['open', 'high', 'low', 'close', 'volume'], dtype='object')\n",
      "                 open     high      low    close      volume\n",
      "<DTYYYYMMDD>                                                \n",
      "2016-10-17     1000.0   9999.0   9999.0   9999.0  82560000.0\n",
      "2016-10-18     9999.0  10498.0  10498.0  10498.0   1954419.0\n",
      "2016-10-19    10498.0  11022.0  11022.0  10910.0    314876.0\n",
      "2016-10-20        NaN      NaN      NaN      NaN         NaN\n",
      "2016-10-21        NaN      NaN      NaN      NaN         NaN\n",
      "<class 'pandas.core.panel.Panel'>\n",
      "Dimensions: 1 (items) x 1158 (major_axis) x 5 (minor_axis)\n",
      "Items axis: ab to ab\n",
      "Major_axis axis: 2016-10-17 00:00:00+00:00 to 2019-12-18 00:00:00+00:00\n",
      "Minor_axis axis: open to volume\n"
     ]
    }
   ],
   "source": [
    "import pandas as pd\n",
    "import pytz\n",
    "from collections import OrderedDict\n",
    "\n",
    "data = OrderedDict()\n",
    "tickers = ['ab']\n",
    "\n",
    "for ticker in tickers:\n",
    "    data[ticker] = pd.read_csv(\"{}.csv\".format(ticker), index_col = 1, parse_dates=['<DTYYYYMMDD>'])\n",
    "    data[ticker] = data[ticker][[\"<OPEN>\",\"<HIGH>\",\"<LOW>\",\"<CLOSE>\",\"<VOL>\"]]\n",
    "    \n",
    "\n",
    "data[ticker] = data[ticker][::-1]\n",
    "data[ticker] = data[ticker].resample('1d').mean()\n",
    "data[ticker].columns = [\"open\",\"high\",\"low\",\"close\",\"volume\"]\n",
    "print(data[ticker].columns)\n",
    "print(data[ticker].head())\n",
    "# print(data[ticker].resample('1d').mean())\n",
    "panel = pd.Panel(data)\n",
    "panel.minor_axis = [\"open\",\"high\",\"low\",\"close\",\"volume\"]\n",
    "panel.major_axis = panel.major_axis.tz_localize(pytz.utc)\n",
    "print(panel)"
   ]
  },
  {
   "cell_type": "code",
   "execution_count": 33,
   "metadata": {},
   "outputs": [
    {
     "name": "stderr",
     "output_type": "stream",
     "text": [
      "F:\\Anaconda\\envs\\env_zipline\\lib\\site-packages\\empyrical\\stats.py:704: RuntimeWarning: invalid value encountered in true_divide\n",
      "  out=out,\n",
      "F:\\Anaconda\\envs\\env_zipline\\lib\\site-packages\\empyrical\\stats.py:790: RuntimeWarning: invalid value encountered in true_divide\n",
      "  np.divide(average_annual_return, annualized_downside_risk, out=out)\n"
     ]
    }
   ],
   "source": [
    "from zipline.api import order, record, symbol, set_benchmark\n",
    "import zipline\n",
    "from datetime import datetime\n",
    "\n",
    "def initialize(context):\n",
    "    set_benchmark(symbol(\"ab\"))\n",
    "    \n",
    "def handle_data(context, data):\n",
    "    order(symbol(\"ab\"), 100)\n",
    "    record(AsanPardakht=data.current(symbol('ab'), 'price'))\n",
    "    \n",
    "perf = zipline.run_algorithm(start=datetime(2017, 1,5,0,0,0,0, pytz.utc),\n",
    "                            end=datetime(2018,3,1,0,0,0,0,pytz.utc),\n",
    "                             initialize=initialize,\n",
    "                             capital_base=10000,\n",
    "                             handle_data=handle_data,\n",
    "                             data=panel)\n"
   ]
  },
  {
   "cell_type": "code",
   "execution_count": 31,
   "metadata": {},
   "outputs": [
    {
     "data": {
      "text/html": [
       "<div>\n",
       "<style scoped>\n",
       "    .dataframe tbody tr th:only-of-type {\n",
       "        vertical-align: middle;\n",
       "    }\n",
       "\n",
       "    .dataframe tbody tr th {\n",
       "        vertical-align: top;\n",
       "    }\n",
       "\n",
       "    .dataframe thead th {\n",
       "        text-align: right;\n",
       "    }\n",
       "</style>\n",
       "<table border=\"1\" class=\"dataframe\">\n",
       "  <thead>\n",
       "    <tr style=\"text-align: right;\">\n",
       "      <th></th>\n",
       "      <th>AsanPardakht</th>\n",
       "      <th>algo_volatility</th>\n",
       "      <th>algorithm_period_return</th>\n",
       "      <th>alpha</th>\n",
       "      <th>benchmark_period_return</th>\n",
       "      <th>benchmark_volatility</th>\n",
       "      <th>beta</th>\n",
       "      <th>capital_used</th>\n",
       "      <th>ending_cash</th>\n",
       "      <th>ending_exposure</th>\n",
       "      <th>...</th>\n",
       "      <th>short_exposure</th>\n",
       "      <th>short_value</th>\n",
       "      <th>shorts_count</th>\n",
       "      <th>sortino</th>\n",
       "      <th>starting_cash</th>\n",
       "      <th>starting_exposure</th>\n",
       "      <th>starting_value</th>\n",
       "      <th>trading_days</th>\n",
       "      <th>transactions</th>\n",
       "      <th>treasury_period_return</th>\n",
       "    </tr>\n",
       "  </thead>\n",
       "  <tbody>\n",
       "    <tr>\n",
       "      <th>2017-01-05 21:00:00+00:00</th>\n",
       "      <td>14662.0</td>\n",
       "      <td>NaN</td>\n",
       "      <td>0.000000</td>\n",
       "      <td>NaN</td>\n",
       "      <td>0.000000</td>\n",
       "      <td>NaN</td>\n",
       "      <td>NaN</td>\n",
       "      <td>0.00</td>\n",
       "      <td>10000.00</td>\n",
       "      <td>0.0</td>\n",
       "      <td>...</td>\n",
       "      <td>0.0</td>\n",
       "      <td>0.0</td>\n",
       "      <td>0</td>\n",
       "      <td>NaN</td>\n",
       "      <td>10000.00</td>\n",
       "      <td>0.0</td>\n",
       "      <td>0.0</td>\n",
       "      <td>1</td>\n",
       "      <td>[]</td>\n",
       "      <td>0.0</td>\n",
       "    </tr>\n",
       "    <tr>\n",
       "      <th>2017-01-06 21:00:00+00:00</th>\n",
       "      <td>14662.0</td>\n",
       "      <td>0.000000</td>\n",
       "      <td>0.000000</td>\n",
       "      <td>NaN</td>\n",
       "      <td>0.000000</td>\n",
       "      <td>0.000000</td>\n",
       "      <td>NaN</td>\n",
       "      <td>0.00</td>\n",
       "      <td>10000.00</td>\n",
       "      <td>0.0</td>\n",
       "      <td>...</td>\n",
       "      <td>0.0</td>\n",
       "      <td>0.0</td>\n",
       "      <td>0</td>\n",
       "      <td>NaN</td>\n",
       "      <td>10000.00</td>\n",
       "      <td>0.0</td>\n",
       "      <td>0.0</td>\n",
       "      <td>2</td>\n",
       "      <td>[]</td>\n",
       "      <td>0.0</td>\n",
       "    </tr>\n",
       "    <tr>\n",
       "      <th>2017-01-09 21:00:00+00:00</th>\n",
       "      <td>14415.0</td>\n",
       "      <td>0.132134</td>\n",
       "      <td>-0.014417</td>\n",
       "      <td>1.457168e-16</td>\n",
       "      <td>-0.016846</td>\n",
       "      <td>0.154399</td>\n",
       "      <td>0.855798</td>\n",
       "      <td>-288444.17</td>\n",
       "      <td>-278444.17</td>\n",
       "      <td>288300.0</td>\n",
       "      <td>...</td>\n",
       "      <td>0.0</td>\n",
       "      <td>0.0</td>\n",
       "      <td>0</td>\n",
       "      <td>-9.165151</td>\n",
       "      <td>10000.00</td>\n",
       "      <td>0.0</td>\n",
       "      <td>0.0</td>\n",
       "      <td>3</td>\n",
       "      <td>[{'order_id': '3150109394944e69866580c186492af...</td>\n",
       "      <td>0.0</td>\n",
       "    </tr>\n",
       "    <tr>\n",
       "      <th>2017-01-10 21:00:00+00:00</th>\n",
       "      <td>14415.0</td>\n",
       "      <td>0.114431</td>\n",
       "      <td>-0.014417</td>\n",
       "      <td>1.092876e-16</td>\n",
       "      <td>-0.016846</td>\n",
       "      <td>0.133713</td>\n",
       "      <td>0.855798</td>\n",
       "      <td>0.00</td>\n",
       "      <td>-278444.17</td>\n",
       "      <td>288300.0</td>\n",
       "      <td>...</td>\n",
       "      <td>0.0</td>\n",
       "      <td>0.0</td>\n",
       "      <td>0</td>\n",
       "      <td>-7.937254</td>\n",
       "      <td>-278444.17</td>\n",
       "      <td>288300.0</td>\n",
       "      <td>288300.0</td>\n",
       "      <td>4</td>\n",
       "      <td>[]</td>\n",
       "      <td>0.0</td>\n",
       "    </tr>\n",
       "    <tr>\n",
       "      <th>2017-01-11 21:00:00+00:00</th>\n",
       "      <td>14886.0</td>\n",
       "      <td>6.704441</td>\n",
       "      <td>0.912695</td>\n",
       "      <td>2.949004e+01</td>\n",
       "      <td>0.015278</td>\n",
       "      <td>0.286325</td>\n",
       "      <td>21.552705</td>\n",
       "      <td>-297868.88</td>\n",
       "      <td>-576313.05</td>\n",
       "      <td>595440.0</td>\n",
       "      <td>...</td>\n",
       "      <td>0.0</td>\n",
       "      <td>0.0</td>\n",
       "      <td>0</td>\n",
       "      <td>456.112242</td>\n",
       "      <td>-278444.17</td>\n",
       "      <td>288300.0</td>\n",
       "      <td>288300.0</td>\n",
       "      <td>5</td>\n",
       "      <td>[{'order_id': '896f763f0ac1467ba3bdedfc49bb15d...</td>\n",
       "      <td>0.0</td>\n",
       "    </tr>\n",
       "  </tbody>\n",
       "</table>\n",
       "<p>5 rows × 38 columns</p>\n",
       "</div>"
      ],
      "text/plain": [
       "                           AsanPardakht  algo_volatility  \\\n",
       "2017-01-05 21:00:00+00:00       14662.0              NaN   \n",
       "2017-01-06 21:00:00+00:00       14662.0         0.000000   \n",
       "2017-01-09 21:00:00+00:00       14415.0         0.132134   \n",
       "2017-01-10 21:00:00+00:00       14415.0         0.114431   \n",
       "2017-01-11 21:00:00+00:00       14886.0         6.704441   \n",
       "\n",
       "                           algorithm_period_return         alpha  \\\n",
       "2017-01-05 21:00:00+00:00                 0.000000           NaN   \n",
       "2017-01-06 21:00:00+00:00                 0.000000           NaN   \n",
       "2017-01-09 21:00:00+00:00                -0.014417  1.457168e-16   \n",
       "2017-01-10 21:00:00+00:00                -0.014417  1.092876e-16   \n",
       "2017-01-11 21:00:00+00:00                 0.912695  2.949004e+01   \n",
       "\n",
       "                           benchmark_period_return  benchmark_volatility  \\\n",
       "2017-01-05 21:00:00+00:00                 0.000000                   NaN   \n",
       "2017-01-06 21:00:00+00:00                 0.000000              0.000000   \n",
       "2017-01-09 21:00:00+00:00                -0.016846              0.154399   \n",
       "2017-01-10 21:00:00+00:00                -0.016846              0.133713   \n",
       "2017-01-11 21:00:00+00:00                 0.015278              0.286325   \n",
       "\n",
       "                                beta  capital_used  ending_cash  \\\n",
       "2017-01-05 21:00:00+00:00        NaN          0.00     10000.00   \n",
       "2017-01-06 21:00:00+00:00        NaN          0.00     10000.00   \n",
       "2017-01-09 21:00:00+00:00   0.855798    -288444.17   -278444.17   \n",
       "2017-01-10 21:00:00+00:00   0.855798          0.00   -278444.17   \n",
       "2017-01-11 21:00:00+00:00  21.552705    -297868.88   -576313.05   \n",
       "\n",
       "                           ending_exposure          ...            \\\n",
       "2017-01-05 21:00:00+00:00              0.0          ...             \n",
       "2017-01-06 21:00:00+00:00              0.0          ...             \n",
       "2017-01-09 21:00:00+00:00         288300.0          ...             \n",
       "2017-01-10 21:00:00+00:00         288300.0          ...             \n",
       "2017-01-11 21:00:00+00:00         595440.0          ...             \n",
       "\n",
       "                           short_exposure  short_value  shorts_count  \\\n",
       "2017-01-05 21:00:00+00:00             0.0          0.0             0   \n",
       "2017-01-06 21:00:00+00:00             0.0          0.0             0   \n",
       "2017-01-09 21:00:00+00:00             0.0          0.0             0   \n",
       "2017-01-10 21:00:00+00:00             0.0          0.0             0   \n",
       "2017-01-11 21:00:00+00:00             0.0          0.0             0   \n",
       "\n",
       "                              sortino  starting_cash  starting_exposure  \\\n",
       "2017-01-05 21:00:00+00:00         NaN       10000.00                0.0   \n",
       "2017-01-06 21:00:00+00:00         NaN       10000.00                0.0   \n",
       "2017-01-09 21:00:00+00:00   -9.165151       10000.00                0.0   \n",
       "2017-01-10 21:00:00+00:00   -7.937254     -278444.17           288300.0   \n",
       "2017-01-11 21:00:00+00:00  456.112242     -278444.17           288300.0   \n",
       "\n",
       "                           starting_value  trading_days  \\\n",
       "2017-01-05 21:00:00+00:00             0.0             1   \n",
       "2017-01-06 21:00:00+00:00             0.0             2   \n",
       "2017-01-09 21:00:00+00:00             0.0             3   \n",
       "2017-01-10 21:00:00+00:00        288300.0             4   \n",
       "2017-01-11 21:00:00+00:00        288300.0             5   \n",
       "\n",
       "                                                                transactions  \\\n",
       "2017-01-05 21:00:00+00:00                                                 []   \n",
       "2017-01-06 21:00:00+00:00                                                 []   \n",
       "2017-01-09 21:00:00+00:00  [{'order_id': '3150109394944e69866580c186492af...   \n",
       "2017-01-10 21:00:00+00:00                                                 []   \n",
       "2017-01-11 21:00:00+00:00  [{'order_id': '896f763f0ac1467ba3bdedfc49bb15d...   \n",
       "\n",
       "                          treasury_period_return  \n",
       "2017-01-05 21:00:00+00:00                    0.0  \n",
       "2017-01-06 21:00:00+00:00                    0.0  \n",
       "2017-01-09 21:00:00+00:00                    0.0  \n",
       "2017-01-10 21:00:00+00:00                    0.0  \n",
       "2017-01-11 21:00:00+00:00                    0.0  \n",
       "\n",
       "[5 rows x 38 columns]"
      ]
     },
     "execution_count": 31,
     "metadata": {},
     "output_type": "execute_result"
    }
   ],
   "source": [
    "perf.head()"
   ]
  },
  {
   "cell_type": "code",
   "execution_count": 32,
   "metadata": {},
   "outputs": [
    {
     "data": {
      "image/png": "[encoded data removed]",
      "text/plain": [
       "<Figure size 432x288 with 1 Axes>"
      ]
     },
     "metadata": {
      "needs_background": "light"
     },
     "output_type": "display_data"
    }
   ],
   "source": [
    "import matplotlib.pyplot as plt\n",
    "\n",
    "perf.portfolio_value.plot()\n",
    "plt.show()\n"
   ]
  },
  {
   "cell_type": "code",
   "execution_count": 27,
   "metadata": {},
   "outputs": [
    {
     "data": {
      "text/plain": [
       "'v1.3.0'"
      ]
     },
     "execution_count": 27,
     "metadata": {},
     "output_type": "execute_result"
    }
   ],
   "source": [
    "zipline.__version__"
   ]
  },
  {
   "cell_type": "code",
   "execution_count": null,
   "metadata": {},
   "outputs": [],
   "source": []
  }
 ],
 "metadata": {
  "kernelspec": {
   "display_name": "Python 3",
   "language": "python",
   "name": "python3"
  },
  "language_info": {
   "codemirror_mode": {
    "name": "ipython",
    "version": 3
   },
   "file_extension": ".py",
   "mimetype": "text/x-python",
   "name": "python",
   "nbconvert_exporter": "python",
   "pygments_lexer": "ipython3",
   "version": "3.7.3"
  }
 },
 "nbformat": 4,
 "nbformat_minor": 2
}
