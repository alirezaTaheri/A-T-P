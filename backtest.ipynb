{
 "cells": [
  {
   "cell_type": "code",
   "execution_count": 2,
   "metadata": {},
   "outputs": [
    {
     "name": "stdout",
     "output_type": "stream",
     "text": [
      "            <FIRST>        <HIGH>         <LOW>       <CLOSE>       <VALUE>  \\\n",
      "count    726.000000    726.000000    726.000000    726.000000  7.260000e+02   \n",
      "mean   16268.157025  16472.351240  15961.516529  16214.756198  2.769737e+10   \n",
      "std     3577.939878   3628.376977   3517.282688   3572.827195  4.916397e+10   \n",
      "min     9999.000000   9999.000000   9999.000000   9999.000000  1.301400e+09   \n",
      "25%    14165.000000  14265.000000  13901.000000  14092.500000  8.091584e+09   \n",
      "50%    15268.500000  15400.000000  15003.000000  15195.000000  1.468535e+10   \n",
      "75%    17189.250000  17289.500000  16945.000000  17078.750000  3.050998e+10   \n",
      "max    27500.000000  27600.000000  26987.000000  27014.000000  8.255174e+11   \n",
      "\n",
      "              <VOL>     <OPENINT>        <OPEN>        <LAST>  \n",
      "count  7.260000e+02    726.000000    726.000000    726.000000  \n",
      "mean   1.752260e+06   1089.133609  16170.252066  16197.279614  \n",
      "std    3.826796e+06   1475.642833   3613.125030   3555.437898  \n",
      "min    9.864200e+04     75.000000   1000.000000   9999.000000  \n",
      "25%    5.392985e+05    416.000000  14072.000000  14086.000000  \n",
      "50%    9.311490e+05    665.000000  15160.500000  15178.000000  \n",
      "75%    1.909821e+06   1131.000000  17076.750000  17099.000000  \n",
      "max    8.256000e+07  22714.000000  27014.000000  27000.000000  \n"
     ]
    }
   ],
   "source": [
    "import pandas as pd\n",
    "import numpy as np\n",
    "import matplotlib.pyplot as plt\n",
    "import datetime\n",
    "# import pandas_datareader as pdr\n",
    "plt.style.use('dark_background')\n",
    "data = pd.read_csv('Asan.Pardakht.Pers.csv', index_col='<DTYYYYMMDD>')\n",
    "data.index = pd.to_datetime(data.index, format='%Y%m%d', errors='ignore')\n",
    "print(data.describe())\n",
    "data = data[::-1]\n",
    "close = data['<CLOSE>']"
   ]
  },
  {
   "cell_type": "code",
   "execution_count": 3,
   "metadata": {},
   "outputs": [],
   "source": [
    "data = pd.read_csv(\"Asan.Pardakht.Pers.csv\", index_col = 1, parse_dates=['<DTYYYYMMDD>'])\n",
    "data = data[[\"<OPEN>\",\"<HIGH>\",\"<LOW>\",\"<CLOSE>\",'<VOL>',\"<VOL>\"]]"
   ]
  },
  {
   "cell_type": "code",
   "execution_count": 4,
   "metadata": {},
   "outputs": [],
   "source": [
    "data.columns = [\"open\",\"high\",\"low\",\"close\",'volume',\"volume\"]\n",
    "data=data[::-1]\n",
    "data.to_csv('newas.csv')"
   ]
  },
  {
   "cell_type": "code",
   "execution_count": null,
   "metadata": {},
   "outputs": [],
   "source": []
  },
  {
   "cell_type": "code",
   "execution_count": null,
   "metadata": {},
   "outputs": [],
   "source": []
  }
 ],
 "metadata": {
  "kernelspec": {
   "display_name": "Python 3",
   "language": "python",
   "name": "python3"
  },
  "language_info": {
   "codemirror_mode": {
    "name": "ipython",
    "version": 3
   },
   "file_extension": ".py",
   "mimetype": "text/x-python",
   "name": "python",
   "nbconvert_exporter": "python",
   "pygments_lexer": "ipython3",
   "version": "3.7.3"
  }
 },
 "nbformat": 4,
 "nbformat_minor": 2
}
